{
 "cells": [
  {
   "cell_type": "markdown",
   "metadata": {},
   "source": [
    "# ISYE 6644 Course Project: SimPy Simulation Language\n",
    "## By Allison Huang, Mark Patrick, Matthew Quinn\n",
    "### December 3rd, 2020"
   ]
  },
  {
   "cell_type": "markdown",
   "metadata": {},
   "source": [
    "# Table of Contents\n"
   ]
  },
  {
   "cell_type": "markdown",
   "metadata": {},
   "source": [
    "# Abstract\n",
    "{Section to be edited}\n",
    ">We have selected Project # 10 and are interested in learning how to simulate the airport passenger waiting time using SimPy, a process-based discrete-event simulation framework that runs in standard Python environment, and compare it with the simulation process using ARENA software. [Insert summary of the simulation model and major findings and conclusions]"
   ]
  },
  {
   "cell_type": "markdown",
   "metadata": {},
   "source": [
    "# Project Description\n",
    "Our task is to learn and demonstrate the capabilities of another high-level programming language. For this project, we have decided on PySim, an opensource simulation library within the Python language. While using a code-based simulation tool versus a graphical based one has it's challenges, we aim to make a simple to follow guide to getting started with PySim. Additionally, we will provide a few workable examples to demonstrate the power of SimPy."
   ]
  },
  {
   "cell_type": "markdown",
   "metadata": {},
   "source": [
    "# SimPy Overview\n",
    "Created by Kalus G.Muller and Tony Vignaux and released in September 2002, SimPy is a discrete-event Python framework used for event simulation by creating a virtual environment to reflect a real-world system. This can range from simulating queueing lines at a store, virus spread through a population, a manufacturing floor, or an airport terminal. The limits to what you can simulate are only limited by the knowledge and experience of the user!  \n",
    "\n",
    "Because SimPy is a descrete-event simulation library, it will be necessary to program every component of our simulation including `processes` and `events`. `Processes` represent \"customers\" in our environment, while `events` show how their interactions and how they affect the environment. We'll explore the full utilization of `processes`,`events`, and the `environment` in the User Guide section.\n",
    "\n",
    "As a quick 3 point overview, SimPy requires three major steps:\n",
    "1. Establish the environment  \n",
    "2. Pass in the parameters  \n",
    "3. Run the simulation"
   ]
  },
  {
   "cell_type": "markdown",
   "metadata": {},
   "source": [
    "## Setting up the Environment\n",
    "\n",
    "Because SimPy is based in python, it requires a slightly more in-depth approach to installation versus using a simple executable. We will not be covering the installation of python, if you need more help [check out it's documentation here](https://wiki.python.org/moin/BeginnersGuide/Download).  \n",
    "\n",
    "SimPy runs on Python 3 or higher, though we recommend installing the latest version for more functionality. Once you have your python installation up and running, you can install Simpy easily like any other package through pip, just use the following:  \n",
    "```pip install simpy```  \n",
    "To confirm SimPy has been installed, you can use `pip list` to view the list of installed python packages\n",
    "\n",
    "Now that we have SimPy, there may be some additional libraries you'd want to add. Namely, `numpy` or `scipy` to handle random number generation, which can be added the same way we installed simpy!\n"
   ]
  },
  {
   "cell_type": "markdown",
   "metadata": {},
   "source": [
    "## Generating Random Numbers\n",
    "SimPy doesn't offer a way to generate random numbers and because of this, users have to do so manually with one of the following Python libraries: `random`, `numpy` or `scipy`. Let's go ahead and explore what these look like.\n",
    "\n",
    "### Generating Random Numbers: `random`\n",
    "The Python Standard Library `random` is a built-in module that contains a variety of pseudo-random number generators for a wide range of distributions. To learn more about this module, [check out the documentation](https://docs.python.org/3/library/random.html).\n",
    "\n",
    "### Installing `random`\n",
    "Since `random` is a built-in Python module, there is no need for installation.\n",
    "\n",
    "### Using `random`\n",
    "```python\n",
    "# Load in the library\n",
    "import random\n",
    "\n",
    "# Define a seed value so numbers are repeatable\n",
    "random.seed(123)\n",
    "\n",
    "# PRN from 0 to 1\n",
    "random.random()\n",
    "\n",
    "# Uniform Distribution from 0, 1\n",
    "random.uniform(0, 1)\n",
    "\n",
    "# Exponential Distribution with a mean of 5\n",
    "random.expovariate(1/5)\n",
    "```"
   ]
  },
  {
   "cell_type": "markdown",
   "metadata": {},
   "source": [
    "### Generating Random Numbers: `numpy`\n",
    "`numpy` is a versatile Python library used for a lot of array and mathematical manipulations. Like `random`, `numpy` contains pseudo-random number generators for many distributions. [Check out the documentation](https://docs.scipy.org/doc/numpy-1.15.0/reference/routines.random.html) to learn more.\n",
    "\n",
    "### Installing `numpy`\n",
    "There are a variety of ways to install `numpy`. Below utilize `pip` or `conda` as methods of doing so.\n",
    "\n",
    "#### `pip`\n",
    "`pip install numpy`\n",
    "\n",
    "#### `conda`\n",
    "`conda install numpy`\n",
    "\n",
    "### Using `numpy`\n",
    "```python\n",
    "# Load in the library\n",
    "import numpy as np\n",
    "\n",
    "# Define a seed value so numbers are repeatable\n",
    "np.random.seed(123)\n",
    "\n",
    "# PRN from 0 to 1\n",
    "np.random.rand()\n",
    "\n",
    "# Uniform Distribution from 0, 1\n",
    "np.random.uniform(0, 1)\n",
    "\n",
    "# Exponential Distribution with a lambda of 5\n",
    "np.random.exponential(5)\n",
    "```"
   ]
  },
  {
   "cell_type": "markdown",
   "metadata": {},
   "source": [
    "### Generating Random Numbers: `scipy`\n",
    "`scipy` is a Python library used for scientific and mathematical computing. `scipy` contains a statistics modeule called `stats` that draws from a number of distributions. [Check out the documentation](https://docs.scipy.org/doc/scipy/reference/tutorial/stats.html) to learn more.\n",
    "\n",
    "### Installing `scipy`\n",
    "There are a variety of ways to install `scipy`. Below utilize `pip` or `conda` as methods of doing so.\n",
    "\n",
    "#### `pip`\n",
    "`pip install scipy`\n",
    "\n",
    "#### `conda`\n",
    "`conda install scipy`\n",
    "\n",
    "### Using `scipy`\n",
    "```python\n",
    "# Load in the library\n",
    "import numpy as np\n",
    "from scipy import stats\n",
    "\n",
    "# Define a seed value so numbers are repeatable (scipy uses the numpy seed)\n",
    "np.random.seed(123)\n",
    "\n",
    "# Uniform RV between 0 and 1\n",
    "stats.uniform.rvs(loc=0, scale=1)\n",
    "\n",
    "# Normal RV with mean 5 and standard deviation of 1\n",
    "stats.norm.rvs(loc=5, scale=1)\n",
    "\n",
    "# Exponential Distribution with a lambda of 1 (default)\n",
    "stats.expon.rvs()\n",
    "```"
   ]
  },
  {
   "cell_type": "markdown",
   "metadata": {},
   "source": [
    "## SimPy Components\n",
    "SimPy implements components by using Python **generators**. These generators act as iterable objects that use the keyword `yield` to remember the initial state and continue on with the process rather than exiting them like `return` in general Python functions. We'll see how this works when we create our processes, but first let's take a look at how to setup a SimPy simulation to execute. Otherwise known as making a `create` block!\n",
    "\n",
    "### Create\n",
    "We first need to import our SimPy library.\n",
    "```python\n",
    "# Load in the library\n",
    "import simpy\n",
    "```\n",
    "Once our library is imported, we'll need to create an instance of our simulation.\n",
    "\n",
    "```python\n",
    "# Creating our environment\n",
    "env = simpy.Environment()\n",
    "env.run(until=20)\n",
    "```\n",
    "\n",
    "- `env` - serves as the base for running simulations in SimPy. \n",
    "- `env.run(until=20)` - executes our simulation for 20 minutes as denoted by the `until` argument.\n",
    "\n",
    "Once we have a process we'll see more uses of our `env` instance, but for now, let the following represent the basics of setting up a SimPy simulation.\n",
    "\n",
    "```python\n",
    "# Load in the library\n",
    "import simpy\n",
    "\n",
    "# Creating our environment\n",
    "env = simpy.Environment()\n",
    "env.run(until=20)\n",
    "```\n",
    "\n",
    "Now let's add a process and some resources to our simulation!"
   ]
  },
  {
   "cell_type": "markdown",
   "metadata": {},
   "source": [
    "### Process-Dispose\n",
    "SimPy views a `process` like an event. Examples of events would include getting served at a barbershop or a gas station. Since components are generators, we'll `yield` the process which resumes our simulation once that process completes versus exiting it. Imagine a barbershop simulation where folks are getting served and waiting for the barber to finish before exiting with an unfinished cut. That's how `yield` works. \n",
    "\n",
    "Let's take a look at a simple barbershop process to show how SimPy creates processes.\n",
    "\n",
    "```python\n",
    "def barbershop(env):\n",
    "    while True:\n",
    "        print(f\"Arrive to barbershop at {env.now}\")\n",
    "        yield env.timeout(5)\n",
    "        print(f\"Start haircut at {env.now}\")\n",
    "        yield env.timeout(10)\n",
    "        print(f\"Depart barbershop at {env.now}\")\n",
    "```\n",
    "\n",
    "- `while True` - continues to arrive, start, and depart the barbershop until our simulation is over as denoted by `env.run(until=20)`.\n",
    "- `env.now` - our simulation clock that moves forward, NEVER backwards in time. The default starting time is 0.\n",
    "- `yield env.timeout(5)` - denotes that folks are served 5 minutes after arriving.\n",
    "- `yield env.timeout(10)` - denotes a 10 minute haircut, before departing.\n",
    "\n",
    "There's something here we'd like to note, while the above is viewed as the process module, it also works simultaneously as a dispose module too. By executing the second yield statement `yield env.timeout(10)` we are automatically disposing the customer and releasing the resource. Additionally, we'll need to tell SimPy to process our barbershop before running the simulation.\n",
    "\n",
    "Let's put this code together with that from the [create section]().\n",
    "\n",
    "```python\n",
    "# Load in the library\n",
    "import simpy\n",
    "\n",
    "# Create a process\n",
    "def barbershop(env):\n",
    "    while True:\n",
    "        print(f\"Arrive to barbershop at {env.now}\")\n",
    "        yield env.timeout(5)\n",
    "        print(f\"Start haircut at {env.now}\")\n",
    "        yield env.timeout(10)\n",
    "        print(f\"Depart barbershop at {env.now}\")\n",
    "\n",
    "# Creating our simulation environment\n",
    "env = simpy.Environment()\n",
    "\n",
    "# Processing our process!\n",
    "env.process(barbershop(env))\n",
    "\n",
    "# Running our simulation for 20 minutes\n",
    "env.run(until=20)\n",
    "```\n",
    "\n",
    "`env.process(barbershop(env))` - creates a generator for the events taking place in our barbershop. Make sure you pass the `env` into our barbershop function so the simulation can keep track of the time and events occurring!\n",
    "\n",
    "Running the above will produce the following output:\n",
    "\n",
    "```\n",
    "Arrive to barbershop at 0\n",
    "Start haircut at 5\n",
    "Depart barbershop at 15\n",
    "Arrive to barbershop at 15\n",
    "```"
   ]
  },
  {
   "cell_type": "markdown",
   "metadata": {},
   "source": [
    "### Adding Resources\n",
    "### Decision Blocks"
   ]
  },
  {
   "cell_type": "markdown",
   "metadata": {},
   "source": [
    "## Simulation Examples\n",
    "\n",
    "#### Airport Simulation\n",
    "# Section currently WIP  \n",
    "Our airport waiting time simulation model contains a variety of variables that can be modified to manipulate the simulation.\n",
    "\n",
    "|Variable|Description|Type|Distribution|\n",
    "|:----------------------|:------------------------------|--------|---|\n",
    "|BOARDING_CHECK_WORKERS |# of Workers at Boarding Check|Resource||\n",
    "|PERSONAL_CHECK_SCANNERS|# of Personal Scanners        |Resource||\n",
    "|PASSENGERS_PER_MINUTE  |$\\lambda$ for Passenger Arrival Rate|Parameter|Exponential|\n",
    "|BOARDING_CHECK_SERVICE_RATE|$\\lambda$ for Service Rate indicated boarding checkers|Parameter|Exponential|\n",
    "|PERSONAL_CHECK_SERVICE_RATE|Service Rate min/max|Parameter|Uniform|\n",
    "|RUN_TIME_MINUTES|Run time in minutes for each simulation|Parameter|\n",
    "|REPLICATIONS|# of times to repeat the simulation|Parameter|\n",
    "\n",
    "We can then change these variables to see how our simulation is affected and try to minimize the wait times of our passengers. We've seta variety of default inputs in our model, feel free to use the script and adjust as desired! \n",
    "\n",
    "The basic flow of our model is as follows: \n",
    "    1. Passenger enters the system\n",
    "    2. Passenger flows through Boarding Checker\n",
    "    3. System determines which Personal Check queue has shortest line\n",
    "    4. Passenger flows through shortest Personal Check Queue\n",
    "    5. Passenger exits the system  \n",
    "\n",
    "This simulation continues for the duration of `RUN_TIME_MINUTES`, then repeats the number of `REPLICATIONS`.\n",
    "\n",
    "\n",
    "\n",
    "{Section to be edited}\n",
    "> In the main program we have created two major classes: Airport and Passenger.  The Airport reclass has two process methods: boarding_check_service_time(self) and personal_check_service_time(self). In addition, a _init_(self, env) method is used to start the run process every time an instance is created for both the boarding_check process and the personal_check_process.  \n",
    "In the Passenger class we have create the following functions:\n",
    "go_to_airport(self): keep tracks of the passenger and records the arrival time at the boarding check and the personal check scanner in a chronological sequence. Under this function, there are additionally three private classes created to complete the boarding simulation process: 1) The _create_process_dispose method automatically disposes the entity and releases resources when finished. This method initiates this will triggers the go_to_airport() function in the Passenger class to have the access to start counting the passenger arrival time and pass the decision block to determine whether the passenger should use the boarding check resource or the personal check scanner resource during a waiting queue. The Resource serves as Process block and sorts the check-in processes in a FIFO(first in first out) manner.2) The _determine_resource() class classifies the resources service time based on the personal check service or the boarding check service and records the timestamp. 3) Finally the _decision_block() class creates a decision block that determines\n",
    "\n",
    "\n",
    "\n",
    "\n",
    "An example of this airport simulation in ARENA would look like the following:\n",
    "![airport-arena](project-examples\\airport-arena-image.png)"
   ]
  },
  {
   "cell_type": "markdown",
   "metadata": {},
   "source": [
    "## Comparison to Arena\n",
    "#### The UI\n",
    "When comparing Pysim to Arena, the first obvious note is that Pysim is code based while Arena has a flowchart based GUI. This makes Arena much more approachable for those without a coding background, such as within a business setting. Having a GUI only interface can be useful as it's easy to explore visually and find different modules while building the simulation, though it can be clunky and overwhelming. Despite this, Arena can be grasped very quickly as users navigate around the UI, reading different modules and drag+dropping their utilities. This allows simulations in arena to be built quickly and easily for anyone with a basic understanding of statistics and simulations. Contrastly Simpy's code-based approach can be intimidating to non-programmers. While it allows for easy integration into advanced models and workflows, this is heavily dependent on the developers coding abilities. \n",
    "\n",
    "#### Interactivity & Demo ability\n",
    "A major advantage Arena has over SimPy is it's interactivity. The ability to drag&drop modules, live run the simulation, then view customers passing between blocks is a great benefit when trying to model a demo of a simulation for clients. There is the potential to code this up from scratch in python by utilizing many external libraries, but doing so is the equivalent of riding a bike across the country instead of driving a car. Yes you CAN, but it's much more efficient to use the proper tool for the job.\n",
    "\n",
    "#### Cost\n",
    "There's not much competition from the cost perspective. Arena's professional use pricing model is expesive, with pricing information difficult to find. The most recent prices we have found put an Arena license at roughly \\\\$2,500 USD for a basic license, and \\\\$19,500 USD for a professional license. These prices were pulled from a research paper in 2011, as Arena does not make it's pricing model public. Contrastly Pysim is free for both personal and professional use, making it much more approachable for new project exploration. "
   ]
  },
  {
   "cell_type": "markdown",
   "metadata": {},
   "source": [
    "### Pros\n",
    " - Code-based\n",
    " - Free\n",
    " - Full interactivity with other python packages\n",
    " - Easily integrate within other models and data pipelines\n",
    " - Open Source"
   ]
  },
  {
   "cell_type": "markdown",
   "metadata": {},
   "source": [
    "### Cons\n",
    "- Code-based, Steep learning curve for non-programmers\n",
    "- Relies on outside packages for things such as random number generation, charting, etc.\n",
    "- Not easily interactive or visual, Can't easily create visual simulation demo's\n",
    "- Limited to the developers skill level"
   ]
  },
  {
   "cell_type": "markdown",
   "metadata": {},
   "source": [
    "# Conclusions\n",
    ">Both SimPy simulation and ARENA Queueing Model could improve the airport queueing system and therefore increases the efficiency of airline operations, by reducing the waiting time via optimizing the # check-in stations and check-in workers.\n",
    "While ARENA provides graphical simulation modeling and modules templates that is visually easier to navigate and animate than the code-based SimPy, it is also far more costly than its non-proprietary counterpart which is free and open to everyone.On ther hand, SimPy requires certain Python programming aptitude in order to successfully carry out the simulation and therefore may require certain learning time beforehand. [Insert other key pts from the simulation model and a concluding sentence]"
   ]
  },
  {
   "cell_type": "markdown",
   "metadata": {},
   "source": [
    "# Appendix\n",
    "#### Resources\n",
    "- https://realpython.com/simpy-simulating-with-python/#how-simulation-works\n",
    "- https://simpy.readthedocs.io/\n"
   ]
  }
 ],
 "metadata": {
  "authors": [
   {
    "name": "Alison Huang"
   },
   {
    "name": "Mark Patrick"
   },
   {
    "name": "Matthew Quinn"
   }
  ],
  "date": "1/28/1993",
  "kernelspec": {
   "display_name": "Python 3",
   "language": "python",
   "name": "python3"
  },
  "language_info": {
   "codemirror_mode": {
    "name": "ipython",
    "version": 3
   },
   "file_extension": ".py",
   "mimetype": "text/x-python",
   "name": "python",
   "nbconvert_exporter": "python",
   "pygments_lexer": "ipython3",
   "version": "3.7.0"
  },
  "latex_envs": {
   "LaTeX_envs_menu_present": true,
   "autoclose": false,
   "autocomplete": false,
   "bibliofile": "biblio.bib",
   "cite_by": "apalike",
   "current_citInitial": 1,
   "eqLabelWithNumbers": true,
   "eqNumInitial": 1,
   "hotkeys": {
    "equation": "Ctrl-E",
    "itemize": "Ctrl-I"
   },
   "labels_anchors": false,
   "latex_user_defs": false,
   "report_style_numbering": false,
   "user_envs_cfg": false
  },
  "title": "Simulation with PySim",
  "toc": {
   "base_numbering": 1,
   "nav_menu": {},
   "number_sections": true,
   "sideBar": true,
   "skip_h1_title": false,
   "title_cell": "Table of Contents",
   "title_sidebar": "Contents",
   "toc_cell": false,
   "toc_position": {
    "height": "calc(100% - 180px)",
    "left": "10px",
    "top": "150px",
    "width": "409.594px"
   },
   "toc_section_display": true,
   "toc_window_display": true
  }
 },
 "nbformat": 4,
 "nbformat_minor": 4
}
