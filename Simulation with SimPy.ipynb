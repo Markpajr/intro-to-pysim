{
 "cells": [
  {
   "cell_type": "markdown",
   "metadata": {},
   "source": [
    "# Abstract\n",
    "{Section to be edited}\n",
    ">We have selected Project # 10 and are interested in learning how to simulate the airport passenger waiting time using SimPy, a process-based discrete-event simulation framework that runs in standard Python environment, and compare it with the simulation process using ARENA software. [Insert summary of the simulation model and major findings and conclusions]"
   ]
  },
  {
   "cell_type": "markdown",
   "metadata": {},
   "source": [
    "# Table of Contents\n"
   ]
  },
  {
   "cell_type": "markdown",
   "metadata": {},
   "source": [
    "# Description of Problem\n",
    "Our task is to learn and demonstrate the capabilities of another high-level programming language. For this project, we have decided on PySim, an opensource simulation library within the Python language. While using a code-based simulation tool versus a graphical based one has it's challenges, we aim to make a simple to follow guide to getting started with PySim. Additionally, we will provide a few workable examples to demonstrate the power of SimPy."
   ]
  },
  {
   "cell_type": "markdown",
   "metadata": {},
   "source": [
    "# Main Findings"
   ]
  },
  {
   "cell_type": "markdown",
   "metadata": {},
   "source": [
    "## Setting up the Environment\n",
    "\n",
    "Because SimPy is based in python, it requires a slightly more in-depth approach to installation versus using a simple executable. We will not be covering the installation of python, if you need more help [check out it's documentation here](https://wiki.python.org/moin/BeginnersGuide/Download).  \n",
    "\n",
    "SimPy runs on Python 3 or higher, though we recommend installing the latest version for more functionality. Once you have your python installation up and running, you can install Simpy easily like any other package through pip, just use the following:  \n",
    "```pip install simpy```  \n",
    "To confirm SimPy has been installed, you can use `pip list` to view the list of installed python packages\n",
    "\n",
    "Now that we have SimPy, there may be some additional libraries you'd want to add. Namely, `numpy` or `scipy` to handle random number generation, which can be added the same way we installed simpy!\n"
   ]
  },
  {
   "cell_type": "markdown",
   "metadata": {},
   "source": [
    "## Generating Random Numbers\n",
    "SimPy doesn't offer a way to generate random numbers and because of this, users have to do this manually with libraries like `random`, `numpy` or `scipy`. We won't explore `scipy`, but let's go ahead and explore what random variables look like with the Python Standard Library `random` and `numpy`.\n",
    "\n",
    "### Python Standard Library: Random\n",
    "The Python Standard Library `random` is a built-in module that comes with Python. The module has a variety of pseudo-random number generators for a wide range of distributions. To learn more about this module, [check out the documentation](https://docs.python.org/3/library/random.html).\n",
    "\n",
    "```python\n",
    "# Load in the library\n",
    "import random\n",
    "\n",
    "# Define a seed value so numbers are repeatable\n",
    "random.seed(123)\n",
    "\n",
    "# PRN from 0 to 1\n",
    "random.random()\n",
    "\n",
    "# Uniform Distribution from 0, 1\n",
    "random.uniform(0, 1)\n",
    "\n",
    "# Exponential Distribution with a mean of 5\n",
    "random.expovariate(1/5)\n",
    "```\n",
    "\n",
    "### Numpy\n",
    "Numpy is a versatile Python library used for a lot of array and mathematical manipulations. Like `random` though, the library contains pseudo-random number generators for many distributions. To learn more about this module, [check out the documentation](https://docs.scipy.org/doc/numpy-1.15.0/reference/routines.random.html).\n",
    "\n",
    "```python\n",
    "# Load in the library\n",
    "import numpy as np\n",
    "\n",
    "# Define a seed value so numbers are repeatable\n",
    "np.random.seed(123)\n",
    "\n",
    "# PRN from 0 to 1\n",
    "np.random.rand()\n",
    "\n",
    "# Uniform Distribution from 0, 1\n",
    "np.random.uniform(0, 1)\n",
    "\n",
    "# Exponential Distribution with a lambda of 5\n",
    "np.random.exponential(5)\n",
    "```"
   ]
  },
  {
   "cell_type": "markdown",
   "metadata": {},
   "source": [
    "## The Language  \n",
    "### The basics of SimPy\n",
    "Created by Kalus G.Muller and Tony Vignaux and released in September 2002, SimPy is a discrete-event Python framework used for event simulation by creating a virtual environment to reflect a real-world system. This can range from simulating queueing lines at a store, virus spread through a population, a manufacturing floor, or an airport terminal. The limits to what you can simulate are only limited by the knowledge and experience of the user!  \n",
    "\n",
    "Because SimPy is a descrete-event simulation library, it will be necessary to program every component of our simulation including `processes` and `events`. `Processes` represent \"customers\" in our environment, while `events` show how their interactions and how they affect the environment. We'll explore the full utilization of `processes`,`events`, and the `environment` in the User Guide section.\n",
    "\n",
    "As a quick 3 point overview, SimPy requires three major steps:\n",
    "    1. Establish the environment  \n",
    "    2. Pass in the parameters  \n",
    "    3. Run the simulation\n",
    "\n",
    "\n"
   ]
  },
  {
   "cell_type": "markdown",
   "metadata": {},
   "source": [
    "## User Guide\n",
    "\n",
    "### Tutorial\n",
    "\n",
    "\n",
    "### Examples\n",
    "\n",
    "#### Airport Simulation \n",
    "Our airport waiting time simulation model contains a variety of global variables that can be modified to manipulate the simulation.\n",
    "\n",
    "|Variable|Description|Type|Distribution|\n",
    "|:----------------------|:------------------------------|--------|---|\n",
    "|BOARDING_CHECK_WORKERS |# of Workers at Boarding Check|Resource||\n",
    "|PERSONAL_CHECK_SCANNERS|# of Personal Scanners        |Resource||\n",
    "|PASSENGERS_PER_MINUTE  |$\\lambda$ for Passenger Arrival Rate|Parameter|Exponential|\n",
    "|BOARDING_CHECK_SERVICE_RATE|$\\lambda$ for Service Rate indicated boarding checkers|Parameter|Exponential|\n",
    "|PERSONAL_CHECK_SERVICE_RATE|Service Rate min/max|Parameter|Uniform|\n",
    "|RUN_TIME_MINUTES|Run time in minutes for each simulation|Parameter|\n",
    "|REPLICATIONS|# of times to repeat the simulation|Parameter|\n",
    "\n",
    "We can then change these variables to see how our simulation is affected and try to minimize the wait times of our passengers. We've set a variety of default inputs in our model, feel free to use the script and adjust as desired! \n",
    "\n",
    "Additonally, we initialize various lists to track simulation output across the runs. These include:\n",
    "* `boarding_check_wait_times`|`personal_check_wait_times`\n",
    "* `boarding_check_service_times`|`personal_check_service_times`\n",
    "* `time_in_system`\n",
    "\n",
    "The basic flow of our model is as follows: \n",
    "    1. Passenger enters the system\n",
    "    2. Passenger flows through Boarding Checker\n",
    "    3. System determines which Personal Check queue has shortest line\n",
    "    4. Passenger flows through shortest Personal Check Queue\n",
    "    5. Passenger exits the system\n",
    "    6. Simulation records various statistics to provide analysis\n",
    "\n",
    "This simulation continues for the duration of `RUN_TIME_MINUTES`, then repeats the number of `REPLICATIONS`.\n",
    "\n",
    "\n",
    "Our main simulation program contains two classes: Airport and Passenger. These classes contain the various functions utilized while running the simulation. Utilizing Object-Oriented-Programming in this way with python classes is the easiest way to create simulations with SimPy. For some detailed material on Python OOP, [Check out this Real Python Tutorial](https://realpython.com/python3-object-oriented-programming/).\n",
    "\n",
    "In our Airport Class, we have defined the following functions:  \n",
    "* `__init__(self,env)`  \n",
    "    * env represents simpy.Environment() which initializes our simulation environment\n",
    "    * `self.boarding_check` creates a resource in our environment with capacity `BOARDING_CHECK_WORKERS`\n",
    "    * `self.personal_check_scanner` creates X number of personal_check_scanner resources, each with their own queue.\n",
    "* `boarding_check_service_time(self)`\n",
    "    * Defines the `boarding_check_service_time` with yield\n",
    "    * Event is distributed ~Exponential(`BOARDING_CHECK_SERVICE_RATE`)\n",
    "* `personal_check_service_time(self)`\n",
    "    * Defines the `personal_check_service_time` with yield\n",
    "    * Event is distributed ~Uniform(Min Personal Check Service Rate, Max Personal Check Service Rate)\n",
    "* `get_resources(self)`\n",
    "    * Creates and returns resource dictionary for our boarding_check and personal_check resources\n",
    "    * Dictionary contains information on overall simulation wait times, service times, and the resource serice rate\n",
    "\n",
    "In our Passenger Class, we have defined the following functions:\n",
    "* `__init__(self, name, airport)`\n",
    "    * Passenger name will be generated in a loop, representing which # passenger is currently going through the simulation\n",
    "    * Airport will be fed in from the airport class\n",
    "    * Creates an arrival time variable by determining the current simulation time when the passenger arrives\n",
    "* `go_to_airport(self)`\n",
    "    1. Sends Passengers through the boarding_check line\n",
    "    2. Runs the decision block to determine personal_check_scanner with the shorters queue\n",
    "    3. Sends Passenger through the shortest available personal_check_scanner\n",
    "* `_create_process_dispose(self, resource, name, arrival_time)`\n",
    "    * This is where we Create, Process, and Dispose of passengers through each event\n",
    "    * Takes in a resource from the aiport class dictionary, passenger name, and passenger arrival time\n",
    "    * Utilizes resource.request() to create entities, store their wait times, process them, and dispose automatically on finish\n",
    "* `_decision_block(self)`\n",
    "    * Utilizes a for loop and if statement to determine which personal_check_scanner has the shortest line\n",
    "\n",
    "Now that we have our classes created, we define a function to generate our passengers:\n",
    "\n",
    "`passenger_generator(env)`:\n",
    "* This will generate passengers for the duration of our simulation\n",
    "* Passengers are distributed ~Exponential(1/`PASSENGERS_PER_MINUTE`)\n",
    "* Creates numbered passengers, and an airport environment. Then feeds each passenger and airport to the passenger class\n",
    "* `env.process(passenger.go_to_airport())` sets up the simulation environment to run for each passenger until simulation ends\n",
    "\n",
    "Finally, we utilize a for loop to loop through each `REPLICATIONS` and actually run our simulation now that everything is initialized. This can be seen in the following code snippet:  \n",
    "```for i in range(1, REPLICATIONS + 1):\n",
    "    np.random.seed(i)\n",
    "    env = simpy.Environment()\n",
    "    env.process(passenger_generator(env))\n",
    "    env.run(until=RUN_TIME_MINUTES)```\n",
    "* We change the random seed on each loop, to ensure each replication isn't identical\n",
    "* `env` intitializes the Simpy Environment\n",
    "* `Env.process` tells the environment to begin the passenger_generator event\n",
    "* `env.run` tells our simulation our long to run, in this case each replication will run for `RUN_TIME_MINUTES`\n",
    "\n",
    "On each loop, we are storing various simulation statistics for output analysis, which is handled in a neat table format utilizing tabulate. \n",
    "\n",
    "This brings us to the end of our Airport simulation. With this simulation, we are able to modify various variables to tweak our simulation and see how that affects outputs such as wait times, average service rates, and average time in the system. \n",
    "\n",
    "For a more visual representation of this example, this airport simulation in ARENA would look like the following:\n",
    "![airport-arena-image.png](https://i.imgur.com/yUbzMAs.png)"
   ]
  },
  {
   "cell_type": "markdown",
   "metadata": {},
   "source": [
    "## Comparison to Arena\n",
    "#### The UI\n",
    "When comparing Pysim to Arena, the first obvious note is that Pysim is code based while Arena has a flowchart based GUI. This makes Arena much more approachable for those without a coding background, such as within a business setting. Having a GUI only interface can be useful as it's easy to explore visually and find different modules while building the simulation, though it can be clunky and overwhelming. Despite this, Arena can be grasped very quickly as users navigate around the UI, reading different modules and drag+dropping their utilities. This allows simulations in arena to be built quickly and easily for anyone with a basic understanding of statistics and simulations. Contrastly Simpy's code-based approach can be intimidating to non-programmers. While it allows for easy integration into advanced models and workflows, this is heavily dependent on the developers coding abilities. \n",
    "\n",
    "#### Interactivity & Demo ability\n",
    "A major advantage Arena has over SimPy is it's interactivity. The ability to drag&drop modules, live run the simulation, then view customers passing between blocks is a great benefit when trying to model a demo of a simulation for clients. There is the potential to code this up from scratch in python by utilizing many external libraries, but doing so is the equivalent of riding a bike across the country instead of driving a car. Yes you CAN, but it's much more efficient to use the proper tool for the job.\n",
    "\n",
    "#### Cost\n",
    "There's not much competition from the cost perspective. Arena's professional use pricing model is expesive, with pricing information difficult to find. The most recent prices we have found put an Arena license at roughly \\\\$2,500 USD for a basic license, and \\\\$19,500 USD for a professional license. These prices were pulled from a research paper in 2011, as Arena does not make it's pricing model public. Contrastly Pysim is free for both personal and professional use, making it much more approachable for new project exploration. "
   ]
  },
  {
   "cell_type": "markdown",
   "metadata": {},
   "source": [
    "### Pros\n",
    " - Code-based\n",
    " - Free\n",
    " - Full interactivity with other python packages\n",
    " - Easily integrate within other models and data pipelines\n",
    " - Open Source"
   ]
  },
  {
   "cell_type": "markdown",
   "metadata": {},
   "source": [
    "### Cons\n",
    "- Code-based, Steep learning curve for non-programmers\n",
    "- Relies on outside packages for things such as random number generation, charting, etc.\n",
    "- Not easily interactive or visual, Can't easily create visual simulation demo's\n",
    "- Limited to the developers skill level"
   ]
  },
  {
   "cell_type": "markdown",
   "metadata": {},
   "source": [
    "# Conclusions\n",
    ">Both SimPy simulation and ARENA Queueing Model could improve the airport queueing system and therefore increases the efficiency of airline operations, by reducing the waiting time via optimizing the # check-in stations and check-in workers.\n",
    "While ARENA provides graphical simulation modeling and modules templates that is visually easier to navigate and animate than the code-based SimPy, it is also far more costly than its non-proprietary counterpart which is free and open to everyone.On ther hand, SimPy requires certain Python programming aptitude in order to successfully carry out the simulation and therefore may require certain learning time beforehand. [Insert other key pts from the simulation model and a concluding sentence]"
   ]
  },
  {
   "cell_type": "markdown",
   "metadata": {},
   "source": [
    "# Appendix\n",
    "#### Resources\n",
    "- https://realpython.com/simpy-simulating-with-python/#how-simulation-works\n",
    "- https://simpy.readthedocs.io/\n",
    "- https://realpython.com/python3-object-oriented-programming/\n"
   ]
  }
 ],
 "metadata": {
  "authors": [
   {
    "name": "Alison Huang"
   },
   {
    "name": "Mark Patrick"
   },
   {
    "name": "Matthew Quinn"
   }
  ],
  "date": "1/28/1993",
  "kernelspec": {
   "display_name": "Python 3",
   "language": "python",
   "name": "python3"
  },
  "language_info": {
   "codemirror_mode": {
    "name": "ipython",
    "version": 3
   },
   "file_extension": ".py",
   "mimetype": "text/x-python",
   "name": "python",
   "nbconvert_exporter": "python",
   "pygments_lexer": "ipython3",
   "version": "3.7.6"
  },
  "latex_envs": {
   "LaTeX_envs_menu_present": true,
   "autoclose": false,
   "autocomplete": false,
   "bibliofile": "biblio.bib",
   "cite_by": "apalike",
   "current_citInitial": 1,
   "eqLabelWithNumbers": true,
   "eqNumInitial": 1,
   "hotkeys": {
    "equation": "Ctrl-E",
    "itemize": "Ctrl-I"
   },
   "labels_anchors": false,
   "latex_user_defs": false,
   "report_style_numbering": false,
   "user_envs_cfg": false
  },
  "title": "Simulation with PySim",
  "toc": {
   "base_numbering": 1,
   "nav_menu": {},
   "number_sections": true,
   "sideBar": true,
   "skip_h1_title": false,
   "title_cell": "Table of Contents",
   "title_sidebar": "Contents",
   "toc_cell": false,
   "toc_position": {},
   "toc_section_display": true,
   "toc_window_display": true
  }
 },
 "nbformat": 4,
 "nbformat_minor": 4
}
