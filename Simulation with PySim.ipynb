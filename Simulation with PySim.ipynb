{
 "cells": [
  {
   "cell_type": "markdown",
   "metadata": {},
   "source": [
    "# Abstract"
   ]
  },
  {
   "cell_type": "markdown",
   "metadata": {},
   "source": [
    "# Description of Problem\n",
    "Our task is to learn and demonstrate the capabilities of another high-level programming language. For this project, we have decided on PySim, an opensource simulation library within the Python language. While using a code-based simulation tool versus a graphical based one has it's challenges, we aim to make a simple to follow guide to getting started with PySim. Additionally, we will provide a few workable examples to demonstrate the power of PySim."
   ]
  },
  {
   "cell_type": "markdown",
   "metadata": {},
   "source": [
    "# Main Findings\n",
    "## The Language\n",
    "## User Guide\n",
    "## Pros and Cons\n",
    "### Pros\n",
    "### Cons\n",
    "## Compared to Arena"
   ]
  },
  {
   "source": [
    "### Pros\n",
    " - Code-based\n",
    " - Free\n",
    " - Full interactivity with other python packages\n",
    " - Easily integrate within other models and data pipelines\n",
    " - Open Source"
   ],
   "cell_type": "markdown",
   "metadata": {}
  },
  {
   "source": [
    "### Cons\n",
    "- Code-based, Steep learning curve for non-programmers\n",
    "- Relies on outside packages for things such as advanced statistical distributions\n",
    "- Not easily interactive or visual, Can't easily create visual simulation demo's"
   ],
   "cell_type": "markdown",
   "metadata": {}
  },
  {
   "source": [
    "### Comparison to Arena\n",
    "When comparing Pysim to Arena, the first obvious note is that Pysim is code based while Arena has a flowchart based GUI. This makes Arena much more approachable for those without a coding background, such as within a business setting. Additionally, the interactivivity of Arena is a great benefit when trying to model a demo of a simulation for clients. Having a GUI only interface can be useful as it's easy to explore visually and find different modules while building the simulation, though it can be clunky and overwhelming. Alternatively, Pysim's code-based approach allows for easy integration into advanced models and workflows, something that Arena's output doesn't allow for. Additionally, Arena has an expensive professional use pricing model. The most recent prices we have been able to find put an Arena license at roughly $2,500 USD for a basic license, and $19,500 USD for a professional license. These prices were pulled from a research paper in 2011, as Arena does not make it's pricing model public. Contrastly Pysim is free for both personal and professional use, making it much more approachable for new project exploration. "
   ],
   "cell_type": "markdown",
   "metadata": {}
  },
  {
   "cell_type": "markdown",
   "metadata": {},
   "source": [
    "# Conclusions"
   ]
  },
  {
   "cell_type": "markdown",
   "metadata": {},
   "source": [
    "# Appendix"
   ]
  }
 ],
 "metadata": {
  "authors": [
   {
    "name": "Alison Huang"
   },
   {
    "name": "Mark Patrick"
   },
   {
    "name": "Matthew Quinn"
   }
  ],
  "date": "1/28/1993",
  "title": "Simulation with PySim",
  "toc": {
   "toc_window_display": true
  }
 },
 "nbformat": 4,
 "nbformat_minor": 4
}