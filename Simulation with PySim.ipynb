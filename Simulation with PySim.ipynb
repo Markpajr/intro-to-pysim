{
 "cells": [
  {
   "cell_type": "markdown",
   "metadata": {},
   "source": [
    "# Abstract"
   ]
  },
  {
   "cell_type": "markdown",
   "metadata": {},
   "source": [
    "# Table of Contents\n"
   ]
  },
  {
   "cell_type": "markdown",
   "metadata": {},
   "source": [
    "# Description of Problem\n",
    "Our task is to learn and demonstrate the capabilities of another high-level programming language. For this project, we have decided on PySim, an opensource simulation library within the Python language. While using a code-based simulation tool versus a graphical based one has it's challenges, we aim to make a simple to follow guide to getting started with PySim. Additionally, we will provide a few workable examples to demonstrate the power of SimPy."
   ]
  },
  {
   "cell_type": "markdown",
   "metadata": {},
   "source": [
    "# Main Findings"
   ]
  },
  {
   "cell_type": "markdown",
   "metadata": {},
   "source": [
    "## Setting up the Environment\n",
    "\n",
    "Because SimPy is based in python, it requires a slightly more in-depth approach to installation versus using a simple executable. We will not be covering the installation of python, if you need more help [check out it's documentation here](https://wiki.python.org/moin/BeginnersGuide/Download).  \n",
    "\n",
    "SimPy runs on Python 3 or higher, though we recommend installing the latest version for more functionality. Once you have your python installation up and running, you can install Simpy easily like any other package through pip, just use the following:  \n",
    "```pip install simpy```  \n",
    "To confirm SimPy has been installed, you can use `pip list` to view the list of installed python packages\n",
    "\n",
    "Now that we have SimPy, there may be some additional libraries you'd want to add. Namely, `numpy` or `scipy` to handle random number generation, which can be added the same way we installed simpy!\n"
   ]
  },
  {
   "cell_type": "markdown",
   "metadata": {},
   "source": [
    "## Generating Random Numbers\n",
    "SimPy doesn't offer a way to generate random numbers and because of this, users have to do this manually with libraries like `random`, `numpy` or `scipy`. We won't explore `scipy`, but let's go ahead and explore what random variables look like with the Python Standard Library `random` and `numpy`.\n",
    "\n",
    "### Python Standard Library: Random\n",
    "The Python Standard Library `random` is a built-in module that comes with Python. The module has a variety of pseudo-random number generators for a wide range of distributions. To learn more about this module, [check out the documentation](https://docs.python.org/3/library/random.html).\n",
    "\n",
    "```python\n",
    "# Load in the library\n",
    "import random\n",
    "\n",
    "# Define a seed value so numbers are repeatable\n",
    "random.seed(123)\n",
    "\n",
    "# PRN from 0 to 1\n",
    "random.random()\n",
    "\n",
    "# Uniform Distribution from 0, 1\n",
    "random.uniform(0, 1)\n",
    "\n",
    "# Exponential Distribution with a mean of 5\n",
    "random.expovariate(1/5)\n",
    "```\n",
    "\n",
    "### Numpy\n",
    "Numpy is a versatile Python library used for a lot of array and mathematical manipulations. Like `random` though, the library contains pseudo-random number generators for many distributions. To learn more about this module, [check out the documentation](https://docs.scipy.org/doc/numpy-1.15.0/reference/routines.random.html).\n",
    "\n",
    "```python\n",
    "# Load in the library\n",
    "import numpy as np\n",
    "\n",
    "# Define a seed value so numbers are repeatable\n",
    "np.random.seed(123)\n",
    "\n",
    "# PRN from 0 to 1\n",
    "np.random.rand()\n",
    "\n",
    "# Uniform Distribution from 0, 1\n",
    "np.random.uniform(0, 1)\n",
    "\n",
    "# Exponential Distribution with a lambda of 5\n",
    "np.random.exponential(5)\n",
    "```"
   ]
  },
  {
   "cell_type": "markdown",
   "metadata": {},
   "source": [
    "## The Language  \n",
    "### The basics of SimPy\n",
    "Created by Kalus G.Muller and Tony Vignaux and released in September 2002, SimPy is a discrete-event Python framework used for event simulation by creating a virtual environment to reflect a real-world system. This can range from simulating queueing lines at a store, virus spread through a population, a manufacturing floor, or an airport terminal. The limits to what you can simulate are only limited by the knowledge and experience of the user!  \n",
    "\n",
    "Because SimPy is a descrete-event simulation library, it will be necessary to program every component of our simulation including `processes` and `events`. `Processes` represent \"customers\" in our environment, while `events` show how their interactions and how they affect the environment. We'll explore the full utilization of `processes`,`events`, and the `environment` in the User Guide section.\n",
    "\n",
    "As a quick 3 point overview, SimPy requires three major steps:\n",
    "    1. Establish the environment  \n",
    "    2. Pass in the parameters  \n",
    "    3. Run the simulation\n",
    "\n",
    "\n"
   ]
  },
  {
   "cell_type": "markdown",
   "metadata": {},
   "source": [
    "## User Guide\n",
    "\n",
    "### Tutorial\n",
    "\n",
    "\n",
    "### Examples\n",
    "\n",
    "#### Airport Simulation\n",
    "# Section currently WIP  \n",
    "Our airport waiting time simulation model contains a variety of variables that can be modified to manipulate the simulation.  \n",
    "\n",
    "to set a variety of inpubased on 1 boarding check worker, and 1 personal check scanner station. Initially we set there are 5 passengers arriving within 1-minute interval on a Poisson distribution($\\lambda =5 $), and we define the boarding check service rate to be 0.75 minute(45 seconds) on an exponential distribution($\\mu=.75$),and personal check service rate is ranging between $\\frac{1}{2}$ minute to 1 minute. After that, the passengers are assigned to the shortest of the several personal-check queues, where they go through the personal scanner where time is uniformly distributed between ½ minute and 1 minute. The simulation is running on a 10-minute scale with 1 simulation per cycle run in a “create-process-dispose” sequence similarly to the ARENA model process.  \n",
    "\n",
    "In the main program we have created two major classes: Airport and Passenger.  The Airport reclass has two process methods: boarding_check_service_time(self) and personal_check_service_time(self). In addition, a _init_(self, env) method is used to start the run process every time an instance is created for both the boarding_check process and the personal_check_process.  \n",
    "In the Passenger class we have create the following functions:\n",
    "go_to_airport(self): keep tracks of the passenger and records the arrival time at the boarding check and the personal check scanner in a chronological sequence. Under this function, there are additionally three private classes created to complete the boarding simulation process: 1) The _create_process_dispose method automatically disposes the entity and releases resources when finished. This method initiates this will triggers the go_to_airport() function in the Passenger class to have the access to start counting the passenger arrival time and pass the decision block to determine whether the passenger should use the boarding check resource or the personal check scanner resource during a waiting queue. The Resource serves as Process block and sorts the check-in processes in a FIFO(first in first out) manner.2) The _determine_resource() class classifies the resources service time based on the personal check service or the boarding check service and records the timestamp. 3) Finally the _decision_block() class creates a decision block that determines\n"
   ]
  },
  {
   "cell_type": "markdown",
   "metadata": {},
   "source": [
    "## Comparison to Arena\n",
    "#### The UI\n",
    "When comparing Pysim to Arena, the first obvious note is that Pysim is code based while Arena has a flowchart based GUI. This makes Arena much more approachable for those without a coding background, such as within a business setting. Having a GUI only interface can be useful as it's easy to explore visually and find different modules while building the simulation, though it can be clunky and overwhelming. Despite this, Arena can be grasped very quickly as users navigate around the UI, reading different modules and drag+dropping their utilities. This allows simulations in arena to be built quickly and easily for anyone with a basic understanding of statistics and simulations. Contrastly Simpy's code-based approach can be intimidating to non-programmers. While it allows for easy integration into advanced models and workflows, this is heavily dependent on the developers coding abilities. \n",
    "\n",
    "#### Interactivity & Demo ability\n",
    "A major advantage Arena has over SimPy is it's interactivity. The ability to drag&drop modules, live run the simulation, then view customers passing between blocks is a great benefit when trying to model a demo of a simulation for clients. There is the potential to code this up from scratch in python by utilizing many external libraries, but doing so is the equivalent of riding a bike across the country instead of driving a car. Yes you CAN, but it's much more efficient to use the proper tool for the job.\n",
    "\n",
    "#### Cost\n",
    "There's not much competition from the cost perspective. Arena's professional use pricing model is expesive, with pricing information difficult to find. The most recent prices we have found put an Arena license at roughly \\\\$2,500 USD for a basic license, and \\\\$19,500 USD for a professional license. These prices were pulled from a research paper in 2011, as Arena does not make it's pricing model public. Contrastly Pysim is free for both personal and professional use, making it much more approachable for new project exploration. "
   ]
  },
  {
   "cell_type": "markdown",
   "metadata": {},
   "source": [
    "### Pros\n",
    " - Code-based\n",
    " - Free\n",
    " - Full interactivity with other python packages\n",
    " - Easily integrate within other models and data pipelines\n",
    " - Open Source"
   ]
  },
  {
   "cell_type": "markdown",
   "metadata": {},
   "source": [
    "### Cons\n",
    "- Code-based, Steep learning curve for non-programmers\n",
    "- Relies on outside packages for things such as random number generation, charting, etc.\n",
    "- Not easily interactive or visual, Can't easily create visual simulation demo's\n",
    "- Limited to the developers skill level"
   ]
  },
  {
   "cell_type": "markdown",
   "metadata": {},
   "source": [
    "# Conclusions"
   ]
  },
  {
   "cell_type": "markdown",
   "metadata": {},
   "source": [
    "# Appendix\n",
    "#### Resources\n",
    "- https://realpython.com/simpy-simulating-with-python/#how-simulation-works\n",
    "- https://simpy.readthedocs.io/\n"
   ]
  }
 ],
 "metadata": {
  "authors": [
   {
    "name": "Alison Huang"
   },
   {
    "name": "Mark Patrick"
   },
   {
    "name": "Matthew Quinn"
   }
  ],
  "date": "1/28/1993",
  "kernelspec": {
   "display_name": "Python 3",
   "language": "python",
   "name": "python3"
  },
  "language_info": {
   "codemirror_mode": {
    "name": "ipython",
    "version": 3
   },
   "file_extension": ".py",
   "mimetype": "text/x-python",
   "name": "python",
   "nbconvert_exporter": "python",
   "pygments_lexer": "ipython3",
   "version": "3.7.6"
  },
  "latex_envs": {
   "LaTeX_envs_menu_present": true,
   "autoclose": false,
   "autocomplete": false,
   "bibliofile": "biblio.bib",
   "cite_by": "apalike",
   "current_citInitial": 1,
   "eqLabelWithNumbers": true,
   "eqNumInitial": 1,
   "hotkeys": {
    "equation": "Ctrl-E",
    "itemize": "Ctrl-I"
   },
   "labels_anchors": false,
   "latex_user_defs": false,
   "report_style_numbering": false,
   "user_envs_cfg": false
  },
  "title": "Simulation with PySim",
  "toc": {
   "base_numbering": 1,
   "nav_menu": {},
   "number_sections": true,
   "sideBar": true,
   "skip_h1_title": false,
   "title_cell": "Table of Contents",
   "title_sidebar": "Contents",
   "toc_cell": false,
   "toc_position": {},
   "toc_section_display": true,
   "toc_window_display": true
  }
 },
 "nbformat": 4,
 "nbformat_minor": 4
}
