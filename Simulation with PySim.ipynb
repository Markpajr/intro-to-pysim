{
 "cells": [
  {
   "cell_type": "markdown",
   "metadata": {},
   "source": [
    "# Abstract"
   ]
  },
  {
   "cell_type": "markdown",
   "metadata": {},
   "source": [
    "# Description of Problem\n",
    "Our task is to learn and demonstrate the capabilities of another high-level programming language. For this project, we have decided on PySim, an opensource simulation library within the Python language. While using a code-based simulation tool versus a graphical based one has it's challenges, we aim to make a simple to follow guide to getting started with PySim. Additionally, we will provide a few workable examples to demonstrate the power of PySim."
   ]
  },
  {
   "cell_type": "markdown",
   "metadata": {},
   "source": [
    "# Main Findings"
   ]
  },
  {
   "cell_type": "markdown",
   "metadata": {},
   "source": [
    "## Generating Random Numbers\n",
    "PySim doesn't offer a way to generate random numbers and because of this, users have to do this manually with libraries like `random`, `numpy` or `scipy`. We won't explore `scipy`, but let's go ahead and explore what random variables look like with the Python Standard Library `random` and `numpy`.\n",
    "\n",
    "### Python Standard Library: Random\n",
    "The Python Standard Library `random` is a built-in module that comes with Python. The module has a variety of pseudo-random number generators for a wide range of distributions. To learn more about this module, [check out the documentation](https://docs.python.org/3/library/random.html).\n",
    "\n",
    "```python\n",
    "# Load in the library\n",
    "import random\n",
    "\n",
    "# Define a seed value so numbers are repeatable\n",
    "random.seed(123)\n",
    "\n",
    "# PRN from 0 to 1\n",
    "random.random()\n",
    "\n",
    "# Uniform Distribution from 0, 1\n",
    "random.uniform(0, 1)\n",
    "\n",
    "# Exponential Distribution with a mean of 5\n",
    "random.expovariate(1/5)\n",
    "```\n",
    "\n",
    "### Numpy\n",
    "Numpy is a versatile Python library used for a lot of array and mathematical manipulations. Like `random` though, the library contains pseudo-random number generators for many distributions. To learn more about this module, [check out the documentation](https://docs.scipy.org/doc/numpy-1.15.0/reference/routines.random.html).\n",
    "\n",
    "```python\n",
    "# Load in the library\n",
    "import numpy as np\n",
    "\n",
    "# Define a seed value so numbers are repeatable\n",
    "np.random.seed(123)\n",
    "\n",
    "# PRN from 0 to 1\n",
    "np.random.rand()\n",
    "\n",
    "# Uniform Distribution from 0, 1\n",
    "np.random.uniform(0, 1)\n",
    "\n",
    "# Exponential Distribution with a lambda of 5\n",
    "np.random.exponential(5)\n",
    "```"
   ]
  },
  {
   "cell_type": "markdown",
   "metadata": {},
   "source": [
    "## The Language"
   ]
  },
  {
   "cell_type": "markdown",
   "metadata": {},
   "source": [
    "## User Guide"
   ]
  },
  {
   "cell_type": "markdown",
   "metadata": {},
   "source": [
    "## Pros and Cons\n",
    "### Pros\n",
    "### Cons"
   ]
  },
  {
   "cell_type": "markdown",
   "metadata": {},
   "source": [
    "## Compared to Arena"
   ]
  },
  {
   "cell_type": "markdown",
   "metadata": {},
   "source": [
    "### Pros\n",
    " - Code-based\n",
    " - Free\n",
    " - Full interactivity with other python packages\n",
    " - Easily integrate within other models and data pipelines\n",
    " - Open Source"
   ]
  },
  {
   "cell_type": "markdown",
   "metadata": {},
   "source": [
    "### Cons\n",
    "- Code-based, Steep learning curve for non-programmers\n",
    "- Relies on outside packages for things such as advanced statistical distributions\n",
    "- Not easily interactive or visual, Can't easily create visual simulation demo's"
   ]
  },
  {
   "cell_type": "markdown",
   "metadata": {},
   "source": [
    "### Comparison to Arena\n",
    "When comparing Pysim to Arena, the first obvious note is that Pysim is code based while Arena has a flowchart based GUI. This makes Arena much more approachable for those without a coding background, such as within a business setting. Additionally, the interactivivity of Arena is a great benefit when trying to model a demo of a simulation for clients. Having a GUI only interface can be useful as it's easy to explore visually and find different modules while building the simulation, though it can be clunky and overwhelming. Alternatively, Pysim's code-based approach allows for easy integration into advanced models and workflows, something that Arena's output doesn't allow for. Additionally, Arena has an expensive professional use pricing model. The most recent prices we have been able to find put an Arena license at roughly $2,500 USD for a basic license, and $19,500 USD for a professional license. These prices were pulled from a research paper in 2011, as Arena does not make it's pricing model public. Contrastly Pysim is free for both personal and professional use, making it much more approachable for new project exploration. "
   ]
  },
  {
   "cell_type": "markdown",
   "metadata": {},
   "source": [
    "# Conclusions"
   ]
  },
  {
   "cell_type": "markdown",
   "metadata": {},
   "source": [
    "# Appendix"
   ]
  }
 ],
 "metadata": {
  "authors": [
   {
    "name": "Alison Huang"
   },
   {
    "name": "Mark Patrick"
   },
   {
    "name": "Matthew Quinn"
   }
  ],
  "date": "1/28/1993",
  "kernelspec": {
   "display_name": "Python 3",
   "language": "python",
   "name": "python3"
  },
  "language_info": {
   "codemirror_mode": {
    "name": "ipython",
    "version": 3
   },
   "file_extension": ".py",
   "mimetype": "text/x-python",
   "name": "python",
   "nbconvert_exporter": "python",
   "pygments_lexer": "ipython3",
   "version": "3.7.0"
  },
  "latex_envs": {
   "LaTeX_envs_menu_present": true,
   "autoclose": false,
   "autocomplete": false,
   "bibliofile": "biblio.bib",
   "cite_by": "apalike",
   "current_citInitial": 1,
   "eqLabelWithNumbers": true,
   "eqNumInitial": 1,
   "hotkeys": {
    "equation": "Ctrl-E",
    "itemize": "Ctrl-I"
   },
   "labels_anchors": false,
   "latex_user_defs": false,
   "report_style_numbering": false,
   "user_envs_cfg": false
  },
  "title": "Simulation with PySim",
  "toc": {
   "base_numbering": 1,
   "nav_menu": {},
   "number_sections": true,
   "sideBar": true,
   "skip_h1_title": false,
   "title_cell": "Table of Contents",
   "title_sidebar": "Contents",
   "toc_cell": false,
   "toc_position": {},
   "toc_section_display": true,
   "toc_window_display": true
  }
 },
 "nbformat": 4,
 "nbformat_minor": 4
}
