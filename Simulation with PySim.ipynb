{
 "cells": [
  {
   "cell_type": "markdown",
   "metadata": {},
   "source": [
    "# Abstract"
   ]
  },
  {
   "cell_type": "markdown",
   "metadata": {},
   "source": [
    "# Description of Problem"
   ]
  },
  {
   "cell_type": "markdown",
   "metadata": {},
   "source": [
    "# Main Findings\n",
    "## The Language\n",
    "## User Guide\n",
    "## Pros and Cons\n",
    "### Pros\n",
    "### Cons\n",
    "## Compared to Arena"
   ]
  },
  {
   "cell_type": "markdown",
   "metadata": {},
   "source": [
    "# Conclusions"
   ]
  },
  {
   "cell_type": "markdown",
   "metadata": {},
   "source": [
    "# Appendix"
   ]
  }
 ],
 "metadata": {
  "authors": [
   {
    "name": "Alison Huang"
   },
   {
    "name": "Mark Patrick"
   },
   {
    "name": "Matthew Quinn"
   }
  ],
  "date": "1/28/1993",
  "title": "Simulation with PySim",
  "toc": {
   "toc_window_display": true
  }
 },
 "nbformat": 4,
 "nbformat_minor": 4
}
