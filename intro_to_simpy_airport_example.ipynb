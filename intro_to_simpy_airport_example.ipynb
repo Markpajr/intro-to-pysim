{
  "nbformat": 4,
  "nbformat_minor": 0,
  "metadata": {
    "colab": {
      "name": "intro-to-simpy-airport-example.ipynb",
      "provenance": [],
      "authorship_tag": "ABX9TyNtXlIEUi6zu/mcegAMa1gp",
      "include_colab_link": true
    },
    "kernelspec": {
      "name": "python3",
      "display_name": "Python 3"
    }
  },
  "cells": [
    {
      "cell_type": "markdown",
      "metadata": {
        "id": "view-in-github",
        "colab_type": "text"
      },
      "source": [
        "<a href=\"https://colab.research.google.com/github/QuinnManor/intro-to-pysim/blob/google-collab-test/intro_to_simpy_airport_example.ipynb\" target=\"_parent\"><img src=\"https://colab.research.google.com/assets/colab-badge.svg\" alt=\"Open In Colab\"/></a>"
      ]
    },
    {
      "cell_type": "code",
      "metadata": {
        "colab": {
          "base_uri": "https://localhost:8080/"
        },
        "id": "9ZBKMyhTU-7s",
        "outputId": "980ff187-2790-42dc-fe4d-2e764fbe6d43"
      },
      "source": [
        "!pip install numpy\n",
        "!pip install tabulate\n",
        "!pip install simpy"
      ],
      "execution_count": 2,
      "outputs": [
        {
          "output_type": "stream",
          "text": [
            "Requirement already satisfied: numpy in /usr/local/lib/python3.6/dist-packages (1.18.5)\n",
            "Requirement already satisfied: tabulate in /usr/local/lib/python3.6/dist-packages (0.8.7)\n",
            "Collecting simpy\n",
            "  Downloading https://files.pythonhosted.org/packages/20/f9/874b0bab83406827db93292a5bbe5acb5c18e3cea665b2f6e053292cb687/simpy-4.0.1-py2.py3-none-any.whl\n",
            "Installing collected packages: simpy\n",
            "Successfully installed simpy-4.0.1\n"
          ],
          "name": "stdout"
        }
      ]
    },
    {
      "cell_type": "code",
      "metadata": {
        "id": "mVVADq6AVfxo"
      },
      "source": [
        "import simpy\n",
        "import numpy as np\n",
        "from tabulate import tabulate"
      ],
      "execution_count": 3,
      "outputs": []
    },
    {
      "cell_type": "code",
      "metadata": {
        "id": "Nxb_Kt7PVjse"
      },
      "source": [
        "# Defining Resources\n",
        "BOARDING_CHECK_WORKERS = 1\n",
        "PERSONAL_CHECK_SCANNERS = 1\n",
        "\n",
        "# Defining Arrival Rate\n",
        "PASSENGERS_PER_MINUTE = 5\n",
        "\n",
        "# Defining Service Rates\n",
        "BOARDING_CHECK_SERVICE_RATE = 0.75\n",
        "PERSONAL_CHECK_SERVICE_RATE = {\"min_scan\": 0.5, \"max_scan\": 1}\n",
        "\n",
        "# Defining Simulation Variables\n",
        "RUN_TIME_MINUTES = 720\n",
        "REPLICATIONS = 1\n",
        "\n",
        "# Variables for Output Analysis\n",
        "boarding_check_wait_times = []\n",
        "personal_check_wait_times = []\n",
        "boarding_check_service_times = []\n",
        "personal_check_service_times = []\n",
        "time_in_system = []"
      ],
      "execution_count": 4,
      "outputs": []
    },
    {
      "cell_type": "code",
      "metadata": {
        "id": "V4wq1Hk2VnNl"
      },
      "source": [
        "class AirPort:\n",
        "    def __init__(self, env):\n",
        "        self.env = env\n",
        "        self.boarding_check = simpy.Resource(env, capacity=BOARDING_CHECK_WORKERS)\n",
        "        self.personal_check_scanner = [simpy.Resource(env, capacity=1) for _ in range(PERSONAL_CHECK_SCANNERS + 1)]\n",
        "\n",
        "    def boarding_check_service_time(self):\n",
        "        yield self.env.timeout(np.random.exponential(BOARDING_CHECK_SERVICE_RATE))\n",
        "\n",
        "    def personal_check_service_time(self):\n",
        "        yield self.env.timeout(np.random.uniform(PERSONAL_CHECK_SERVICE_RATE[\"min_scan\"],\n",
        "                                                 PERSONAL_CHECK_SERVICE_RATE[\"max_scan\"]))\n",
        "\n",
        "    def get_resources(self):\n",
        "        resources = {\n",
        "            \"boarding_check\": {\n",
        "                \"wait_times\": boarding_check_wait_times,\n",
        "                \"service_rate\": self.boarding_check_service_time(),\n",
        "                \"service_times\": boarding_check_service_times\n",
        "            },\n",
        "            \"personal_check\": {\n",
        "                \"wait_times\": personal_check_wait_times,\n",
        "                \"service_rate\": self.personal_check_service_time(),\n",
        "                \"service_times\": personal_check_service_times\n",
        "            }\n",
        "        }\n",
        "        return resources"
      ],
      "execution_count": 5,
      "outputs": []
    },
    {
      "cell_type": "code",
      "metadata": {
        "id": "GXa6UWx1VrC0"
      },
      "source": [
        "class Passenger:\n",
        "    global boarding_check_wait_times\n",
        "    global boarding_check_service_times\n",
        "    global personal_check_wait_times\n",
        "    global personal_check_service_times\n",
        "    global time_in_system\n",
        "\n",
        "    def __init__(self, name, airport):\n",
        "        self.name = name\n",
        "        self.airport = airport\n",
        "        self.airport_arrival_time = round(self.airport.env.now, 2)\n",
        "\n",
        "    def go_to_airport(self):\n",
        "        yield from self._create_process_dispose(self.airport.boarding_check,\n",
        "                                                \"boarding_check\", self.airport_arrival_time)\n",
        "\n",
        "        available_scanner = self._decision_block()  # Decision Block to Determine Available Scanner\n",
        "        yield from self._create_process_dispose(self.airport.personal_check_scanner[available_scanner],\n",
        "                                                \"personal_check\", round(self.airport.env.now, 2))\n",
        "\n",
        "        departed_airport = self.airport.env.now\n",
        "        time_in_system.append(departed_airport - self.airport_arrival_time)  # Calculate Time in System\n",
        "\n",
        "    def _create_process_dispose(self, resource, name, arrival_time):\n",
        "        resources = self.airport.get_resources()\n",
        "        with resource.request() as request:  # Automatically Disposes Entity, Releases Resource when Finished (Dispose)\n",
        "            yield request  # Entity Requests Resource (Create)\n",
        "            time_in = self.airport.env.now\n",
        "            resources[name][\"wait_times\"].append(round(time_in, 2) - arrival_time)\n",
        "            yield env.process(resources[name][\"service_rate\"])  # Resource is Serving the Entity (Process)\n",
        "            resources[name][\"service_times\"].append(self.airport.env.now - time_in)  # Calculate Service Rates\n",
        "\n",
        "    def _decision_block(self):\n",
        "        minq = 1\n",
        "        for i in range(1, PERSONAL_CHECK_SCANNERS + 1):\n",
        "            if len(self.airport.personal_check_scanner[i].queue) < len(self.airport.personal_check_scanner[minq].queue):\n",
        "                minq = i\n",
        "        return minq"
      ],
      "execution_count": 6,
      "outputs": []
    },
    {
      "cell_type": "code",
      "metadata": {
        "id": "RRoT5j9gVuZ1"
      },
      "source": [
        "def passenger_generator(env):\n",
        "    passenger_name = 1\n",
        "    airport = AirPort(env)\n",
        "    while True:\n",
        "        yield env.timeout(np.random.exponential(1 / PASSENGERS_PER_MINUTE))\n",
        "        passenger = Passenger(passenger_name, airport)\n",
        "        env.process(passenger.go_to_airport())\n",
        "        passenger_name += 1"
      ],
      "execution_count": 7,
      "outputs": []
    },
    {
      "cell_type": "code",
      "metadata": {
        "colab": {
          "base_uri": "https://localhost:8080/"
        },
        "id": "ziPEiPqBVZoY",
        "outputId": "02b846a6-41b6-4782-de09-ad0b7d3f34dc"
      },
      "source": [
        "for i in range(1, REPLICATIONS + 1):\n",
        "    np.random.seed(i)\n",
        "    env = simpy.Environment()\n",
        "    env.process(passenger_generator(env))\n",
        "    env.run(until=RUN_TIME_MINUTES)\n",
        "\n",
        "\n",
        "print(\"---------------------Output Analysis-----------------------\")\n",
        "headers = ['Avg Boarding Check Wait',\n",
        "           'Avg Personal Check Wait',\n",
        "           'Avg Boarding Check Service Rate',\n",
        "           'Avg Personal Check Service Rate',\n",
        "           'Avg Wait Time',\n",
        "           'Avg Time in System']\n",
        "\n",
        "average_wait_times = (np.mean(boarding_check_wait_times) + np.mean(personal_check_wait_times)) / 2\n",
        "data = np.array([\n",
        "    round(np.mean(boarding_check_wait_times), 2),\n",
        "    round(np.mean(personal_check_wait_times), 2),\n",
        "    round(np.mean(boarding_check_service_times), 2),\n",
        "    round(np.mean(personal_check_service_times), 2),\n",
        "    round(average_wait_times, 2),\n",
        "    round(np.mean(time_in_system), 2)\n",
        "])\n",
        "\n",
        "print(tabulate([data], headers, tablefmt=\"fancy_grid\"))\n"
      ],
      "execution_count": 8,
      "outputs": [
        {
          "output_type": "stream",
          "text": [
            "---------------------Output Analysis-----------------------\n",
            "╒═══════════════════════════╤═══════════════════════════╤═══════════════════════════════════╤═══════════════════════════════════╤═════════════════╤══════════════════════╕\n",
            "│   Avg Boarding Check Wait │   Avg Personal Check Wait │   Avg Boarding Check Service Rate │   Avg Personal Check Service Rate │   Avg Wait Time │   Avg Time in System │\n",
            "╞═══════════════════════════╪═══════════════════════════╪═══════════════════════════════════╪═══════════════════════════════════╪═════════════════╪══════════════════════╡\n",
            "│                    266.09 │                      5.67 │                              0.77 │                              0.75 │          135.88 │               271.58 │\n",
            "╘═══════════════════════════╧═══════════════════════════╧═══════════════════════════════════╧═══════════════════════════════════╧═════════════════╧══════════════════════╛\n"
          ],
          "name": "stdout"
        }
      ]
    }
  ]
}